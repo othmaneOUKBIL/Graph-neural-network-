{
  "nbformat": 4,
  "nbformat_minor": 0,
  "metadata": {
    "colab": {
      "provenance": []
    },
    "kernelspec": {
      "name": "python3",
      "display_name": "Python 3"
    },
    "language_info": {
      "name": "python"
    }
  },
  "cells": [
    {
      "cell_type": "code",
      "execution_count": 41,
      "metadata": {
        "id": "q-UxSeiGoHaf"
      },
      "outputs": [],
      "source": [
        "import networkx as nx"
      ]
    },
    {
      "cell_type": "markdown",
      "source": [
        "Creat the underected graph"
      ],
      "metadata": {
        "id": "LEtMT8Xkq7dd"
      }
    },
    {
      "cell_type": "code",
      "source": [
        "G=nx.Graph()\n",
        "G.add_edge(1,2)\n",
        "G.add_nodes_from([\n",
        "    (1, {\"color\": \"red\",\"label\":1}),\n",
        "(2, {\"color\": \"yellow\",\"label\": 2}),\n",
        "(3, {\"color\": \"pink\",\"label\": 3}),\n",
        "(4, {\"color\": \"green\",\"label\": 4}),\n",
        "(5, {\"color\": \"blue\",\"label\": 5}),\n",
        "    (6, {\"color\": \"orange\",\"label\": 6})\n",
        "])\n",
        "G.add_edges_from([(1, 2), (1, 6),(2, 6), (4, 3),(3,6),(4,6),(4,5),(5,6)])\n",
        "nx.draw(G, with_labels = True)"
      ],
      "metadata": {
        "colab": {
          "base_uri": "https://localhost:8080/",
          "height": 516
        },
        "id": "F8dHv86toLCn",
        "outputId": "f5e69910-c53f-4630-86b4-4ef96a6d41de"
      },
      "execution_count": null,
      "outputs": [
        {
          "output_type": "display_data",
          "data": {
            "text/plain": [
              "<Figure size 640x480 with 1 Axes>"
            ],
            "image/png": "[encoded data removed]"
          },
          "metadata": {}
        }
      ]
    },
    {
      "cell_type": "markdown",
      "source": [
        "How many nodes and edges are present in the graph"
      ],
      "metadata": {
        "id": "Re8cFqvArFdj"
      }
    },
    {
      "cell_type": "code",
      "source": [
        "num_nodes = G.number_of_nodes()\n",
        "print(\"G has {} nodes\".format(num_nodes))\n",
        "num_edges = G.number_of_edges()\n",
        "print(\"G has {} nodes\".format(num_edges))"
      ],
      "metadata": {
        "colab": {
          "base_uri": "https://localhost:8080/"
        },
        "id": "2XeO_HTyrDzw",
        "outputId": "37c7f430-c55b-4a78-a116-972ede989070"
      },
      "execution_count": null,
      "outputs": [
        {
          "output_type": "stream",
          "name": "stdout",
          "text": [
            "G has 6 nodes\n",
            "G has 8 nodes\n"
          ]
        }
      ]
    },
    {
      "cell_type": "markdown",
      "source": [
        "What are the labels of the nodes in the graph"
      ],
      "metadata": {
        "id": "cWvIFtR0rw7N"
      }
    },
    {
      "cell_type": "code",
      "source": [
        "for node in G.nodes(data=True):\n",
        "  print(f'The label of node {node[0]} is {node[1][\"label\"]}')"
      ],
      "metadata": {
        "colab": {
          "base_uri": "https://localhost:8080/"
        },
        "id": "bVAn_Unjr3UA",
        "outputId": "52552de6-4fa2-4ee3-e755-308de685e6ac"
      },
      "execution_count": null,
      "outputs": [
        {
          "output_type": "stream",
          "name": "stdout",
          "text": [
            "The label of node 1 is 1\n",
            "The label of node 2 is 2\n",
            "The label of node 3 is 3\n",
            "The label of node 4 is 4\n",
            "The label of node 5 is 5\n",
            "The label of node 6 is 6\n"
          ]
        }
      ]
    },
    {
      "cell_type": "markdown",
      "source": [
        "What is the degree of each node in the graph"
      ],
      "metadata": {
        "id": "ikhDbPPHvCnc"
      }
    },
    {
      "cell_type": "code",
      "source": [
        "for node in G.nodes(data=True):\n",
        "  print(\"Node {} has degree {}\".format(node[0], G.degree[node[0]]))"
      ],
      "metadata": {
        "colab": {
          "base_uri": "https://localhost:8080/"
        },
        "id": "aLcLYt5EvWsA",
        "outputId": "8afbaa82-1046-4c8c-debc-6cfb5a76cda7"
      },
      "execution_count": null,
      "outputs": [
        {
          "output_type": "stream",
          "name": "stdout",
          "text": [
            "Node 1 has degree 2\n",
            "Node 2 has degree 2\n",
            "Node 3 has degree 2\n",
            "Node 4 has degree 3\n",
            "Node 5 has degree 2\n",
            "Node 6 has degree 5\n"
          ]
        }
      ]
    },
    {
      "cell_type": "markdown",
      "source": [
        "Which node has the highest degree in the graph"
      ],
      "metadata": {
        "id": "Y6t36RBrvxAR"
      }
    },
    {
      "cell_type": "code",
      "source": [
        "print(\"The node with the highest degree is {}\".format(max(G.degree, key=lambda x: x[1])[0]))"
      ],
      "metadata": {
        "colab": {
          "base_uri": "https://localhost:8080/"
        },
        "id": "S6EYA72YwnOx",
        "outputId": "ed9f4e4b-81f2-4a6e-e6ce-8f1219ddcf67"
      },
      "execution_count": null,
      "outputs": [
        {
          "output_type": "stream",
          "name": "stdout",
          "text": [
            "The node with the highest degree is 6\n"
          ]
        }
      ]
    },
    {
      "cell_type": "markdown",
      "source": [
        "What is the closeness centrality of each node in the graph"
      ],
      "metadata": {
        "id": "6sSRdmiKw2-I"
      }
    },
    {
      "cell_type": "code",
      "source": [
        "closeness = nx.closeness_centrality(G)\n",
        "print(\"Closeness centrality:\", closeness)"
      ],
      "metadata": {
        "colab": {
          "base_uri": "https://localhost:8080/"
        },
        "id": "GYQsVeqFxMSG",
        "outputId": "d63ac1ea-935a-4a76-be4b-2d136dedbfd4"
      },
      "execution_count": null,
      "outputs": [
        {
          "output_type": "stream",
          "name": "stdout",
          "text": [
            "Closeness centrality: {1: 0.625, 2: 0.625, 3: 0.625, 4: 0.7142857142857143, 5: 0.625, 6: 1.0}\n"
          ]
        }
      ]
    },
    {
      "cell_type": "markdown",
      "source": [
        "Which node is the most central according to the closeness centrality"
      ],
      "metadata": {
        "id": "9DfThZZjxdPW"
      }
    },
    {
      "cell_type": "code",
      "source": [
        "print('The node the most central according to the closeness centrality', max(closeness, key=closeness.get))"
      ],
      "metadata": {
        "colab": {
          "base_uri": "https://localhost:8080/"
        },
        "id": "RnVh9HSaxsiI",
        "outputId": "56480ecc-fb32-436a-faa4-61480ad7c8b3"
      },
      "execution_count": null,
      "outputs": [
        {
          "output_type": "stream",
          "name": "stdout",
          "text": [
            "The node the most central according to the closeness centrality 6\n"
          ]
        }
      ]
    },
    {
      "cell_type": "markdown",
      "source": [
        "What is the betweenness centrality of each node"
      ],
      "metadata": {
        "id": "I6ZMOnsZx9bG"
      }
    },
    {
      "cell_type": "code",
      "source": [
        "betweenness = nx.betweenness_centrality(G)\n",
        "print(\"Betweenness centrality:\", betweenness)"
      ],
      "metadata": {
        "colab": {
          "base_uri": "https://localhost:8080/"
        },
        "id": "CNRcNnFeyNoH",
        "outputId": "f46a4209-9a8a-466b-da81-654588435f43"
      },
      "execution_count": 47,
      "outputs": [
        {
          "output_type": "stream",
          "name": "stdout",
          "text": [
            "Betweenness centrality: {1: 0.0, 2: 0.0, 3: 0.0, 4: 0.05, 5: 0.0, 6: 0.65}\n"
          ]
        }
      ]
    },
    {
      "cell_type": "markdown",
      "source": [
        "What is the node that have the highest betweenness centrality in the graph"
      ],
      "metadata": {
        "id": "8SOrZ33pybTZ"
      }
    },
    {
      "cell_type": "code",
      "source": [
        "print('The node that have the highest betweenness centrality in the graph', max(betweenness, key=betweenness.get))"
      ],
      "metadata": {
        "colab": {
          "base_uri": "https://localhost:8080/"
        },
        "id": "08lZ46mvyl-a",
        "outputId": "1fe61c1c-144e-41d0-c966-3562781ba0c4"
      },
      "execution_count": null,
      "outputs": [
        {
          "output_type": "stream",
          "name": "stdout",
          "text": [
            "The node that have the highest betweenness centrality in the graph 6\n"
          ]
        }
      ]
    },
    {
      "cell_type": "markdown",
      "source": [
        "What is the shortest path between noe 1 and 6"
      ],
      "metadata": {
        "id": "iMjQWoTd3amT"
      }
    },
    {
      "cell_type": "code",
      "source": [
        "print('The shortest path between node 1 and 6:', nx.shortest_path(G, source=1, target=6))"
      ],
      "metadata": {
        "colab": {
          "base_uri": "https://localhost:8080/"
        },
        "id": "tnXtqaFR3gy-",
        "outputId": "2babc8e9-0431-44da-88d0-0a52b741eaa8"
      },
      "execution_count": null,
      "outputs": [
        {
          "output_type": "stream",
          "name": "stdout",
          "text": [
            "The shortest path between node 1 and 6: [1, 6]\n"
          ]
        }
      ]
    },
    {
      "cell_type": "code",
      "source": [
        "print('The shortest path between node 3 and 5: ', nx.shortest_path_length(G, source=5, target=3))"
      ],
      "metadata": {
        "colab": {
          "base_uri": "https://localhost:8080/"
        },
        "id": "sIgPyCpI3pN3",
        "outputId": "2b26a15a-4d77-46aa-cd5a-83a09f64b78c"
      },
      "execution_count": null,
      "outputs": [
        {
          "output_type": "stream",
          "name": "stdout",
          "text": [
            "The shortest path between node 3 and 5:  2\n"
          ]
        }
      ]
    },
    {
      "cell_type": "markdown",
      "source": [
        "Creat a directed graph"
      ],
      "metadata": {
        "id": "YDTCekFh5NHv"
      }
    },
    {
      "cell_type": "code",
      "source": [
        "D=nx.DiGraph()\n",
        "D.add_nodes_from(range(1, 6))\n",
        "D.add_edges_from([(1,2),(2,3),(2,5),(2,4),(4,2),(4,3),(5,4)])\n",
        "nx.draw(D, with_labels=True)"
      ],
      "metadata": {
        "colab": {
          "base_uri": "https://localhost:8080/",
          "height": 516
        },
        "id": "NQJFcaxu5Rqp",
        "outputId": "eb07fc13-3012-496b-afd6-727b565e2175"
      },
      "execution_count": null,
      "outputs": [
        {
          "output_type": "display_data",
          "data": {
            "text/plain": [
              "<Figure size 640x480 with 1 Axes>"
            ],
            "image/png": "[encoded data removed]"
          },
          "metadata": {}
        }
      ]
    },
    {
      "cell_type": "markdown",
      "source": [
        "How many node and edge are present in the graph"
      ],
      "metadata": {
        "id": "dxNAD_X87MWo"
      }
    },
    {
      "cell_type": "code",
      "source": [
        "num_nodes = D.number_of_nodes()\n",
        "print(\"D has {} nodes\".format(num_nodes))\n",
        "num_edges = D.number_of_edges()\n",
        "print(\"D has {} nodes\".format(num_edges))"
      ],
      "metadata": {
        "colab": {
          "base_uri": "https://localhost:8080/"
        },
        "id": "a1fz2nel7TDa",
        "outputId": "5944b433-c3bb-4bcc-d0cf-34b718bbbe7a"
      },
      "execution_count": null,
      "outputs": [
        {
          "output_type": "stream",
          "name": "stdout",
          "text": [
            "D has 5 nodes\n",
            "D has 7 nodes\n"
          ]
        }
      ]
    },
    {
      "cell_type": "markdown",
      "source": [
        "What is the in-degree and out-degree of each node in the graph"
      ],
      "metadata": {
        "id": "J_XUXaQw7bkg"
      }
    },
    {
      "cell_type": "code",
      "source": [
        "for node in D.nodes(data=True):\n",
        "  print(\"Node {} has in-degree {} and out-degree {}\".format(node[0], D.in_degree[node[0]], D.out_degree[node[0]]))"
      ],
      "metadata": {
        "colab": {
          "base_uri": "https://localhost:8080/"
        },
        "id": "k3Pgvtsa7lki",
        "outputId": "62a57ee6-54d2-4cc5-e729-0421ff2a408a"
      },
      "execution_count": null,
      "outputs": [
        {
          "output_type": "stream",
          "name": "stdout",
          "text": [
            "Node 1 has in-degree 0 and out-degree 1\n",
            "Node 2 has in-degree 2 and out-degree 3\n",
            "Node 3 has in-degree 2 and out-degree 0\n",
            "Node 4 has in-degree 2 and out-degree 2\n",
            "Node 5 has in-degree 1 and out-degree 1\n"
          ]
        }
      ]
    },
    {
      "cell_type": "markdown",
      "source": [
        "Whic node has the highest in-degree or out-degree in the graph"
      ],
      "metadata": {
        "id": "7dec2_yY8J9M"
      }
    },
    {
      "cell_type": "code",
      "source": [
        "print(\"The node with the highest in-degree is {}\".format(max(D.in_degree, key=lambda x: x[1])[0]))"
      ],
      "metadata": {
        "colab": {
          "base_uri": "https://localhost:8080/"
        },
        "id": "l1dFMJP9As1L",
        "outputId": "847eabb1-312e-4f47-86db-db2a09f25d4f"
      },
      "execution_count": 42,
      "outputs": [
        {
          "output_type": "stream",
          "name": "stdout",
          "text": [
            "The node with the highest in-degree is 2\n"
          ]
        }
      ]
    },
    {
      "cell_type": "markdown",
      "source": [
        "What is the closeness centrality of each node in the graph"
      ],
      "metadata": {
        "id": "fs5Whf88A7rm"
      }
    },
    {
      "cell_type": "code",
      "source": [
        "closeness_D = nx.closeness_centrality(D)\n",
        "print(\"Closeness centrality:\", closeness_D)"
      ],
      "metadata": {
        "colab": {
          "base_uri": "https://localhost:8080/"
        },
        "id": "f-JyfGt-BCoC",
        "outputId": "b4c3b997-0bad-453d-d6c0-d1e8311aaab4"
      },
      "execution_count": 45,
      "outputs": [
        {
          "output_type": "stream",
          "name": "stdout",
          "text": [
            "Closeness centrality: {1: 0.0, 2: 0.5625, 3: 0.6666666666666666, 4: 0.5625, 5: 0.44999999999999996}\n"
          ]
        }
      ]
    },
    {
      "cell_type": "markdown",
      "source": [
        "Which node is the most central according to the closeness centrality"
      ],
      "metadata": {
        "id": "7vqSd8P0BOp3"
      }
    },
    {
      "cell_type": "code",
      "source": [
        "print('The node the most central according to the closeness centrality', max(closeness_D, key=closeness.get))"
      ],
      "metadata": {
        "colab": {
          "base_uri": "https://localhost:8080/"
        },
        "id": "WKpw3GFlBbFX",
        "outputId": "9fdd1c86-74a2-42eb-90c7-93eafad288e4"
      },
      "execution_count": 46,
      "outputs": [
        {
          "output_type": "stream",
          "name": "stdout",
          "text": [
            "The node the most central according to the closeness centrality 3\n"
          ]
        }
      ]
    },
    {
      "cell_type": "markdown",
      "source": [
        "What is the the betweenness centrality of each node"
      ],
      "metadata": {
        "id": "Mx8ZspAMCDcA"
      }
    },
    {
      "cell_type": "code",
      "source": [
        "betweenness_D = nx.betweenness_centrality(D)\n",
        "print(\"Betweenness centrality:\", betweenness_D)"
      ],
      "metadata": {
        "colab": {
          "base_uri": "https://localhost:8080/"
        },
        "id": "3Nz9sgq9BnYI",
        "outputId": "fba2df01-2198-47a0-80f2-ac0a76b46bf0"
      },
      "execution_count": 48,
      "outputs": [
        {
          "output_type": "stream",
          "name": "stdout",
          "text": [
            "Betweenness centrality: {1: 0.0, 2: 0.3333333333333333, 3: 0.0, 4: 0.16666666666666666, 5: 0.0}\n"
          ]
        }
      ]
    },
    {
      "cell_type": "markdown",
      "source": [
        "What is the clustring coefficient of each node in the graph"
      ],
      "metadata": {
        "id": "DUSw7pHtC6xh"
      }
    },
    {
      "cell_type": "code",
      "source": [
        "print('The clustring coefficient of each node in the graph', nx.clustering(D))"
      ],
      "metadata": {
        "colab": {
          "base_uri": "https://localhost:8080/"
        },
        "id": "q6yBgwfKDIvB",
        "outputId": "84584b66-a38f-4437-f468-c76cb4f90649"
      },
      "execution_count": 49,
      "outputs": [
        {
          "output_type": "stream",
          "name": "stdout",
          "text": [
            "The clustring coefficient of each node in the graph {1: 0, 2: 0.2222222222222222, 3: 1.0, 4: 0.4, 5: 1.0}\n"
          ]
        }
      ]
    }
  ]
}